{
 "cells": [
  {
   "cell_type": "code",
   "execution_count": 53,
   "id": "11d3d07c",
   "metadata": {},
   "outputs": [
    {
     "name": "stdout",
     "output_type": "stream",
     "text": [
      "Requirement already satisfied: tensorflow in c:\\users\\royal_tech\\anaconda3\\envs\\tf\\lib\\site-packages (2.19.0)\n",
      "Requirement already satisfied: absl-py>=1.0.0 in c:\\users\\royal_tech\\anaconda3\\envs\\tf\\lib\\site-packages (from tensorflow) (2.3.1)\n",
      "Requirement already satisfied: astunparse>=1.6.0 in c:\\users\\royal_tech\\anaconda3\\envs\\tf\\lib\\site-packages (from tensorflow) (1.6.3)\n",
      "Requirement already satisfied: flatbuffers>=24.3.25 in c:\\users\\royal_tech\\anaconda3\\envs\\tf\\lib\\site-packages (from tensorflow) (25.2.10)\n",
      "Requirement already satisfied: gast!=0.5.0,!=0.5.1,!=0.5.2,>=0.2.1 in c:\\users\\royal_tech\\anaconda3\\envs\\tf\\lib\\site-packages (from tensorflow) (0.6.0)\n",
      "Requirement already satisfied: google-pasta>=0.1.1 in c:\\users\\royal_tech\\anaconda3\\envs\\tf\\lib\\site-packages (from tensorflow) (0.2.0)\n",
      "Requirement already satisfied: libclang>=13.0.0 in c:\\users\\royal_tech\\anaconda3\\envs\\tf\\lib\\site-packages (from tensorflow) (18.1.1)\n",
      "Requirement already satisfied: opt-einsum>=2.3.2 in c:\\users\\royal_tech\\anaconda3\\envs\\tf\\lib\\site-packages (from tensorflow) (3.4.0)\n",
      "Requirement already satisfied: packaging in c:\\users\\royal_tech\\anaconda3\\envs\\tf\\lib\\site-packages (from tensorflow) (24.2)\n",
      "Requirement already satisfied: protobuf!=4.21.0,!=4.21.1,!=4.21.2,!=4.21.3,!=4.21.4,!=4.21.5,<6.0.0dev,>=3.20.3 in c:\\users\\royal_tech\\anaconda3\\envs\\tf\\lib\\site-packages (from tensorflow) (5.29.5)\n",
      "Requirement already satisfied: requests<3,>=2.21.0 in c:\\users\\royal_tech\\anaconda3\\envs\\tf\\lib\\site-packages (from tensorflow) (2.32.4)\n",
      "Requirement already satisfied: setuptools in c:\\users\\royal_tech\\anaconda3\\envs\\tf\\lib\\site-packages (from tensorflow) (78.1.1)\n",
      "Requirement already satisfied: six>=1.12.0 in c:\\users\\royal_tech\\anaconda3\\envs\\tf\\lib\\site-packages (from tensorflow) (1.17.0)\n",
      "Requirement already satisfied: termcolor>=1.1.0 in c:\\users\\royal_tech\\anaconda3\\envs\\tf\\lib\\site-packages (from tensorflow) (3.1.0)\n",
      "Requirement already satisfied: typing-extensions>=3.6.6 in c:\\users\\royal_tech\\anaconda3\\envs\\tf\\lib\\site-packages (from tensorflow) (4.12.2)\n",
      "Requirement already satisfied: wrapt>=1.11.0 in c:\\users\\royal_tech\\anaconda3\\envs\\tf\\lib\\site-packages (from tensorflow) (1.17.2)\n",
      "Requirement already satisfied: grpcio<2.0,>=1.24.3 in c:\\users\\royal_tech\\anaconda3\\envs\\tf\\lib\\site-packages (from tensorflow) (1.73.1)\n",
      "Requirement already satisfied: tensorboard~=2.19.0 in c:\\users\\royal_tech\\anaconda3\\envs\\tf\\lib\\site-packages (from tensorflow) (2.19.0)\n",
      "Requirement already satisfied: keras>=3.5.0 in c:\\users\\royal_tech\\anaconda3\\envs\\tf\\lib\\site-packages (from tensorflow) (3.10.0)\n",
      "Requirement already satisfied: numpy<2.2.0,>=1.26.0 in c:\\users\\royal_tech\\anaconda3\\envs\\tf\\lib\\site-packages (from tensorflow) (2.1.3)\n",
      "Requirement already satisfied: h5py>=3.11.0 in c:\\users\\royal_tech\\anaconda3\\envs\\tf\\lib\\site-packages (from tensorflow) (3.14.0)\n",
      "Requirement already satisfied: ml-dtypes<1.0.0,>=0.5.1 in c:\\users\\royal_tech\\anaconda3\\envs\\tf\\lib\\site-packages (from tensorflow) (0.5.1)\n",
      "Requirement already satisfied: tensorflow-io-gcs-filesystem>=0.23.1 in c:\\users\\royal_tech\\anaconda3\\envs\\tf\\lib\\site-packages (from tensorflow) (0.31.0)\n",
      "Requirement already satisfied: charset_normalizer<4,>=2 in c:\\users\\royal_tech\\anaconda3\\envs\\tf\\lib\\site-packages (from requests<3,>=2.21.0->tensorflow) (3.3.2)\n",
      "Requirement already satisfied: idna<4,>=2.5 in c:\\users\\royal_tech\\anaconda3\\envs\\tf\\lib\\site-packages (from requests<3,>=2.21.0->tensorflow) (3.10)\n",
      "Requirement already satisfied: urllib3<3,>=1.21.1 in c:\\users\\royal_tech\\anaconda3\\envs\\tf\\lib\\site-packages (from requests<3,>=2.21.0->tensorflow) (2.5.0)\n",
      "Requirement already satisfied: certifi>=2017.4.17 in c:\\users\\royal_tech\\anaconda3\\envs\\tf\\lib\\site-packages (from requests<3,>=2.21.0->tensorflow) (2025.6.15)\n",
      "Requirement already satisfied: markdown>=2.6.8 in c:\\users\\royal_tech\\anaconda3\\envs\\tf\\lib\\site-packages (from tensorboard~=2.19.0->tensorflow) (3.8.2)\n",
      "Requirement already satisfied: tensorboard-data-server<0.8.0,>=0.7.0 in c:\\users\\royal_tech\\anaconda3\\envs\\tf\\lib\\site-packages (from tensorboard~=2.19.0->tensorflow) (0.7.2)\n",
      "Requirement already satisfied: werkzeug>=1.0.1 in c:\\users\\royal_tech\\anaconda3\\envs\\tf\\lib\\site-packages (from tensorboard~=2.19.0->tensorflow) (3.1.3)\n",
      "Requirement already satisfied: wheel<1.0,>=0.23.0 in c:\\users\\royal_tech\\anaconda3\\envs\\tf\\lib\\site-packages (from astunparse>=1.6.0->tensorflow) (0.45.1)\n",
      "Requirement already satisfied: rich in c:\\users\\royal_tech\\anaconda3\\envs\\tf\\lib\\site-packages (from keras>=3.5.0->tensorflow) (14.0.0)\n",
      "Requirement already satisfied: namex in c:\\users\\royal_tech\\anaconda3\\envs\\tf\\lib\\site-packages (from keras>=3.5.0->tensorflow) (0.1.0)\n",
      "Requirement already satisfied: optree in c:\\users\\royal_tech\\anaconda3\\envs\\tf\\lib\\site-packages (from keras>=3.5.0->tensorflow) (0.16.0)\n",
      "Requirement already satisfied: MarkupSafe>=2.1.1 in c:\\users\\royal_tech\\anaconda3\\envs\\tf\\lib\\site-packages (from werkzeug>=1.0.1->tensorboard~=2.19.0->tensorflow) (3.0.2)\n",
      "Requirement already satisfied: markdown-it-py>=2.2.0 in c:\\users\\royal_tech\\anaconda3\\envs\\tf\\lib\\site-packages (from rich->keras>=3.5.0->tensorflow) (3.0.0)\n",
      "Requirement already satisfied: pygments<3.0.0,>=2.13.0 in c:\\users\\royal_tech\\anaconda3\\envs\\tf\\lib\\site-packages (from rich->keras>=3.5.0->tensorflow) (2.19.1)\n",
      "Requirement already satisfied: mdurl~=0.1 in c:\\users\\royal_tech\\anaconda3\\envs\\tf\\lib\\site-packages (from markdown-it-py>=2.2.0->rich->keras>=3.5.0->tensorflow) (0.1.2)\n",
      "Note: you may need to restart the kernel to use updated packages.\n",
      "Requirement already satisfied: tensorflow-datasets in c:\\users\\royal_tech\\anaconda3\\envs\\tf\\lib\\site-packages (4.9.9)\n",
      "Requirement already satisfied: absl-py in c:\\users\\royal_tech\\anaconda3\\envs\\tf\\lib\\site-packages (from tensorflow-datasets) (2.3.1)\n",
      "Requirement already satisfied: dm-tree in c:\\users\\royal_tech\\anaconda3\\envs\\tf\\lib\\site-packages (from tensorflow-datasets) (0.1.9)\n",
      "Requirement already satisfied: etils>=1.9.1 in c:\\users\\royal_tech\\anaconda3\\envs\\tf\\lib\\site-packages (from etils[edc,enp,epath,epy,etree]>=1.9.1; python_version >= \"3.11\"->tensorflow-datasets) (1.12.2)\n",
      "Requirement already satisfied: immutabledict in c:\\users\\royal_tech\\anaconda3\\envs\\tf\\lib\\site-packages (from tensorflow-datasets) (4.2.1)\n",
      "Requirement already satisfied: numpy in c:\\users\\royal_tech\\anaconda3\\envs\\tf\\lib\\site-packages (from tensorflow-datasets) (2.1.3)\n",
      "Requirement already satisfied: promise in c:\\users\\royal_tech\\anaconda3\\envs\\tf\\lib\\site-packages (from tensorflow-datasets) (2.3)\n",
      "Requirement already satisfied: protobuf>=3.20 in c:\\users\\royal_tech\\anaconda3\\envs\\tf\\lib\\site-packages (from tensorflow-datasets) (5.29.5)\n",
      "Requirement already satisfied: psutil in c:\\users\\royal_tech\\anaconda3\\envs\\tf\\lib\\site-packages (from tensorflow-datasets) (5.9.0)\n",
      "Requirement already satisfied: pyarrow in c:\\users\\royal_tech\\anaconda3\\envs\\tf\\lib\\site-packages (from tensorflow-datasets) (20.0.0)\n",
      "Requirement already satisfied: requests>=2.19.0 in c:\\users\\royal_tech\\anaconda3\\envs\\tf\\lib\\site-packages (from tensorflow-datasets) (2.32.4)\n",
      "Requirement already satisfied: simple_parsing in c:\\users\\royal_tech\\anaconda3\\envs\\tf\\lib\\site-packages (from tensorflow-datasets) (0.1.7)\n",
      "Requirement already satisfied: tensorflow-metadata in c:\\users\\royal_tech\\anaconda3\\envs\\tf\\lib\\site-packages (from tensorflow-datasets) (1.17.2)\n",
      "Requirement already satisfied: termcolor in c:\\users\\royal_tech\\anaconda3\\envs\\tf\\lib\\site-packages (from tensorflow-datasets) (3.1.0)\n",
      "Requirement already satisfied: toml in c:\\users\\royal_tech\\anaconda3\\envs\\tf\\lib\\site-packages (from tensorflow-datasets) (0.10.2)\n",
      "Requirement already satisfied: tqdm in c:\\users\\royal_tech\\anaconda3\\envs\\tf\\lib\\site-packages (from tensorflow-datasets) (4.67.1)\n",
      "Requirement already satisfied: wrapt in c:\\users\\royal_tech\\anaconda3\\envs\\tf\\lib\\site-packages (from tensorflow-datasets) (1.17.2)\n",
      "Requirement already satisfied: einops in c:\\users\\royal_tech\\anaconda3\\envs\\tf\\lib\\site-packages (from etils[edc,enp,epath,epy,etree]>=1.9.1; python_version >= \"3.11\"->tensorflow-datasets) (0.8.1)\n",
      "Requirement already satisfied: fsspec in c:\\users\\royal_tech\\anaconda3\\envs\\tf\\lib\\site-packages (from etils[edc,enp,epath,epy,etree]>=1.9.1; python_version >= \"3.11\"->tensorflow-datasets) (2025.5.1)\n",
      "Requirement already satisfied: importlib_resources in c:\\users\\royal_tech\\anaconda3\\envs\\tf\\lib\\site-packages (from etils[edc,enp,epath,epy,etree]>=1.9.1; python_version >= \"3.11\"->tensorflow-datasets) (6.5.2)\n",
      "Requirement already satisfied: typing_extensions in c:\\users\\royal_tech\\anaconda3\\envs\\tf\\lib\\site-packages (from etils[edc,enp,epath,epy,etree]>=1.9.1; python_version >= \"3.11\"->tensorflow-datasets) (4.12.2)\n",
      "Requirement already satisfied: zipp in c:\\users\\royal_tech\\anaconda3\\envs\\tf\\lib\\site-packages (from etils[edc,enp,epath,epy,etree]>=1.9.1; python_version >= \"3.11\"->tensorflow-datasets) (3.23.0)\n",
      "Requirement already satisfied: charset_normalizer<4,>=2 in c:\\users\\royal_tech\\anaconda3\\envs\\tf\\lib\\site-packages (from requests>=2.19.0->tensorflow-datasets) (3.3.2)\n",
      "Requirement already satisfied: idna<4,>=2.5 in c:\\users\\royal_tech\\anaconda3\\envs\\tf\\lib\\site-packages (from requests>=2.19.0->tensorflow-datasets) (3.10)\n",
      "Requirement already satisfied: urllib3<3,>=1.21.1 in c:\\users\\royal_tech\\anaconda3\\envs\\tf\\lib\\site-packages (from requests>=2.19.0->tensorflow-datasets) (2.5.0)\n",
      "Requirement already satisfied: certifi>=2017.4.17 in c:\\users\\royal_tech\\anaconda3\\envs\\tf\\lib\\site-packages (from requests>=2.19.0->tensorflow-datasets) (2025.6.15)\n",
      "Requirement already satisfied: attrs>=18.2.0 in c:\\users\\royal_tech\\anaconda3\\envs\\tf\\lib\\site-packages (from dm-tree->tensorflow-datasets) (24.3.0)\n",
      "Requirement already satisfied: six in c:\\users\\royal_tech\\anaconda3\\envs\\tf\\lib\\site-packages (from promise->tensorflow-datasets) (1.17.0)\n",
      "Requirement already satisfied: docstring-parser<1.0,>=0.15 in c:\\users\\royal_tech\\anaconda3\\envs\\tf\\lib\\site-packages (from simple_parsing->tensorflow-datasets) (0.16)\n",
      "Requirement already satisfied: googleapis-common-protos<2,>=1.56.4 in c:\\users\\royal_tech\\anaconda3\\envs\\tf\\lib\\site-packages (from tensorflow-metadata->tensorflow-datasets) (1.70.0)\n",
      "Requirement already satisfied: colorama in c:\\users\\royal_tech\\anaconda3\\envs\\tf\\lib\\site-packages (from tqdm->tensorflow-datasets) (0.4.6)\n",
      "Note: you may need to restart the kernel to use updated packages.\n"
     ]
    }
   ],
   "source": [
    "%pip install tensorflow\n",
    "%pip install tensorflow-datasets"
   ]
  },
  {
   "cell_type": "code",
   "execution_count": 75,
   "id": "f65b6458",
   "metadata": {},
   "outputs": [],
   "source": [
    "import pandas as pd\n",
    "import numpy as np\n",
    "import tensorflow as tf\n",
    "import tensorflow_datasets as tfds\n"
   ]
  },
  {
   "cell_type": "code",
   "execution_count": null,
   "id": "ccd7b4ed",
   "metadata": {},
   "outputs": [
    {
     "name": "stdout",
     "output_type": "stream",
     "text": [
      "<_PrefetchDataset element_spec={'image': TensorSpec(shape=(28, 28, 1), dtype=tf.uint8, name=None), 'label': TensorSpec(shape=(), dtype=tf.int64, name=None)}>\n"
     ]
    }
   ],
   "source": [
    "ds, info = tfds.load(\"mnist\", split=\"train\", with_info=True)\n",
    "validation, info = tfds.load(\"mnist\", split=\"test\", with_info=True)\n",
    "\n",
    "images = \n",
    "labels = \n",
    "\n",
    "\n",
    "\n",
    "print(ds)"
   ]
  },
  {
   "cell_type": "code",
   "execution_count": 86,
   "id": "528579d9",
   "metadata": {},
   "outputs": [
    {
     "name": "stdout",
     "output_type": "stream",
     "text": [
      "<_PrefetchDataset element_spec={'image': TensorSpec(shape=(28, 28, 1), dtype=tf.uint8, name=None), 'label': TensorSpec(shape=(), dtype=tf.int64, name=None)}>\n"
     ]
    }
   ],
   "source": [
    "print(validation)"
   ]
  },
  {
   "cell_type": "code",
   "execution_count": 58,
   "id": "0d83699b",
   "metadata": {},
   "outputs": [
    {
     "name": "stdout",
     "output_type": "stream",
     "text": [
      "['image', 'label']\n",
      "(28, 28, 1) tf.Tensor(4, shape=(), dtype=int64)\n",
      "['image', 'label']\n",
      "(28, 28, 1) tf.Tensor(1, shape=(), dtype=int64)\n",
      "['image', 'label']\n",
      "(28, 28, 1) tf.Tensor(0, shape=(), dtype=int64)\n",
      "['image', 'label']\n",
      "(28, 28, 1) tf.Tensor(7, shape=(), dtype=int64)\n",
      "['image', 'label']\n",
      "(28, 28, 1) tf.Tensor(8, shape=(), dtype=int64)\n",
      "['image', 'label']\n",
      "(28, 28, 1) tf.Tensor(1, shape=(), dtype=int64)\n",
      "['image', 'label']\n",
      "(28, 28, 1) tf.Tensor(2, shape=(), dtype=int64)\n",
      "['image', 'label']\n",
      "(28, 28, 1) tf.Tensor(7, shape=(), dtype=int64)\n",
      "['image', 'label']\n",
      "(28, 28, 1) tf.Tensor(1, shape=(), dtype=int64)\n",
      "['image', 'label']\n",
      "(28, 28, 1) tf.Tensor(6, shape=(), dtype=int64)\n"
     ]
    }
   ],
   "source": [
    "i = 10\n",
    "for example in ds:\n",
    "    if i>0:\n",
    "        print(list(example.keys()))\n",
    "        image = example[\"image\"]\n",
    "        label = example[\"label\"]\n",
    "        print(image.shape, label)\n",
    "        i-=1"
   ]
  },
  {
   "cell_type": "code",
   "execution_count": 97,
   "id": "aa58249d",
   "metadata": {},
   "outputs": [
    {
     "name": "stdout",
     "output_type": "stream",
     "text": [
      "(None, 10)\n"
     ]
    },
    {
     "name": "stderr",
     "output_type": "stream",
     "text": [
      "c:\\Users\\Royal_Tech\\anaconda3\\envs\\tf\\Lib\\site-packages\\keras\\src\\layers\\reshaping\\flatten.py:37: UserWarning: Do not pass an `input_shape`/`input_dim` argument to a layer. When using Sequential models, prefer using an `Input(shape)` object as the first layer in the model instead.\n",
      "  super().__init__(**kwargs)\n"
     ]
    }
   ],
   "source": [
    "from tensorflow.keras import layers\n",
    "from tensorflow.keras import metrics\n",
    "model = tf.keras.Sequential([\n",
    "    layers.Flatten(input_shape=(28,28)),\n",
    "    layers.Flatten(),\n",
    "    layers.Dense(784, activation=\"relu\"),\n",
    "    layers.Dense(32, activation=\"relu\"),\n",
    "    layers.Dense(10, activation=\"softmax\")\n",
    "])\n",
    "\n",
    "\n",
    "model.compile(\n",
    "    optimizer=\"adam\",\n",
    "    loss=\"categorical_crossentropy\",\n",
    "    metrics=[\n",
    "    \"accuracy\",\n",
    "        metrics.Precision(name=\"precision\"),\n",
    "        metrics.Recall(name=\"recall\")\n",
    "    ]\n",
    ")\n",
    "\n",
    "print(model.output_shape)\n"
   ]
  },
  {
   "cell_type": "code",
   "execution_count": 98,
   "id": "5d47f762",
   "metadata": {},
   "outputs": [
    {
     "name": "stdout",
     "output_type": "stream",
     "text": [
      "Epoch 1/11\n"
     ]
    },
    {
     "ename": "ValueError",
     "evalue": "Exception encountered when calling Sequential.call().\n\n\u001b[1mThe structure of `inputs` doesn't match the expected structure.\nExpected: keras_tensor_70\nReceived: inputs={'image': 'Tensor(shape=(28, 28, 1))', 'label': 'Tensor(shape=())'}\u001b[0m\n\nArguments received by Sequential.call():\n  • inputs={'image': 'tf.Tensor(shape=(28, 28, 1), dtype=uint8)', 'label': 'tf.Tensor(shape=(), dtype=int64)'}\n  • training=True\n  • mask={'image': 'None', 'label': 'None'}\n  • kwargs=<class 'inspect._empty'>",
     "output_type": "error",
     "traceback": [
      "\u001b[31m---------------------------------------------------------------------------\u001b[39m",
      "\u001b[31mValueError\u001b[39m                                Traceback (most recent call last)",
      "\u001b[36mCell\u001b[39m\u001b[36m \u001b[39m\u001b[32mIn[98]\u001b[39m\u001b[32m, line 1\u001b[39m\n\u001b[32m----> \u001b[39m\u001b[32m1\u001b[39m model.fit(\n\u001b[32m      2\u001b[39m     ds,\n\u001b[32m      3\u001b[39m     validation_data=(validation),\n\u001b[32m      4\u001b[39m     epochs=\u001b[32m11\u001b[39m\n\u001b[32m      5\u001b[39m )\n",
      "\u001b[36mFile \u001b[39m\u001b[32mc:\\Users\\Royal_Tech\\anaconda3\\envs\\tf\\Lib\\site-packages\\keras\\src\\utils\\traceback_utils.py:122\u001b[39m, in \u001b[36mfilter_traceback.<locals>.error_handler\u001b[39m\u001b[34m(*args, **kwargs)\u001b[39m\n\u001b[32m    119\u001b[39m     filtered_tb = _process_traceback_frames(e.__traceback__)\n\u001b[32m    120\u001b[39m     \u001b[38;5;66;03m# To get the full stack trace, call:\u001b[39;00m\n\u001b[32m    121\u001b[39m     \u001b[38;5;66;03m# `keras.config.disable_traceback_filtering()`\u001b[39;00m\n\u001b[32m--> \u001b[39m\u001b[32m122\u001b[39m     \u001b[38;5;28;01mraise\u001b[39;00m e.with_traceback(filtered_tb) \u001b[38;5;28;01mfrom\u001b[39;00m\u001b[38;5;250m \u001b[39m\u001b[38;5;28;01mNone\u001b[39;00m\n\u001b[32m    123\u001b[39m \u001b[38;5;28;01mfinally\u001b[39;00m:\n\u001b[32m    124\u001b[39m     \u001b[38;5;28;01mdel\u001b[39;00m filtered_tb\n",
      "\u001b[36mFile \u001b[39m\u001b[32mc:\\Users\\Royal_Tech\\anaconda3\\envs\\tf\\Lib\\site-packages\\keras\\src\\models\\functional.py:240\u001b[39m, in \u001b[36mFunctional._maybe_warn_inputs_struct_mismatch\u001b[39m\u001b[34m(self, inputs, raise_exception)\u001b[39m\n\u001b[32m    234\u001b[39m msg = (\n\u001b[32m    235\u001b[39m     \u001b[33m\"\u001b[39m\u001b[33mThe structure of `inputs` doesn\u001b[39m\u001b[33m'\u001b[39m\u001b[33mt match the expected \u001b[39m\u001b[33m\"\u001b[39m\n\u001b[32m    236\u001b[39m     \u001b[33mf\u001b[39m\u001b[33m\"\u001b[39m\u001b[33mstructure.\u001b[39m\u001b[38;5;130;01m\\n\u001b[39;00m\u001b[33mExpected: \u001b[39m\u001b[38;5;132;01m{\u001b[39;00mmodel_inputs_struct\u001b[38;5;132;01m}\u001b[39;00m\u001b[38;5;130;01m\\n\u001b[39;00m\u001b[33m\"\u001b[39m\n\u001b[32m    237\u001b[39m     \u001b[33mf\u001b[39m\u001b[33m\"\u001b[39m\u001b[33mReceived: inputs=\u001b[39m\u001b[38;5;132;01m{\u001b[39;00minputs_struct\u001b[38;5;132;01m}\u001b[39;00m\u001b[33m\"\u001b[39m\n\u001b[32m    238\u001b[39m )\n\u001b[32m    239\u001b[39m \u001b[38;5;28;01mif\u001b[39;00m raise_exception:\n\u001b[32m--> \u001b[39m\u001b[32m240\u001b[39m     \u001b[38;5;28;01mraise\u001b[39;00m \u001b[38;5;167;01mValueError\u001b[39;00m(msg)\n\u001b[32m    241\u001b[39m warnings.warn(msg)\n",
      "\u001b[31mValueError\u001b[39m: Exception encountered when calling Sequential.call().\n\n\u001b[1mThe structure of `inputs` doesn't match the expected structure.\nExpected: keras_tensor_70\nReceived: inputs={'image': 'Tensor(shape=(28, 28, 1))', 'label': 'Tensor(shape=())'}\u001b[0m\n\nArguments received by Sequential.call():\n  • inputs={'image': 'tf.Tensor(shape=(28, 28, 1), dtype=uint8)', 'label': 'tf.Tensor(shape=(), dtype=int64)'}\n  • training=True\n  • mask={'image': 'None', 'label': 'None'}\n  • kwargs=<class 'inspect._empty'>"
     ]
    }
   ],
   "source": [
    "model.fit(\n",
    "    ds,\n",
    "    validation_data=(validation),\n",
    "    epochs=11\n",
    ")"
   ]
  }
 ],
 "metadata": {
  "kernelspec": {
   "display_name": "tf",
   "language": "python",
   "name": "python3"
  },
  "language_info": {
   "codemirror_mode": {
    "name": "ipython",
    "version": 3
   },
   "file_extension": ".py",
   "mimetype": "text/x-python",
   "name": "python",
   "nbconvert_exporter": "python",
   "pygments_lexer": "ipython3",
   "version": "3.11.13"
  }
 },
 "nbformat": 4,
 "nbformat_minor": 5
}
